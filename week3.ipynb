{
 "metadata": {
  "language_info": {
   "codemirror_mode": {
    "name": "ipython",
    "version": 3
   },
   "file_extension": ".py",
   "mimetype": "text/x-python",
   "name": "python",
   "nbconvert_exporter": "python",
   "pygments_lexer": "ipython3",
   "version": "3.8.6-final"
  },
  "orig_nbformat": 2,
  "kernelspec": {
   "name": "Python 3.8.6 64-bit",
   "display_name": "Python 3.8.6 64-bit",
   "metadata": {
    "interpreter": {
     "hash": "1ee38ef4a5a9feb55287fd749643f13d043cb0a7addaab2a9c224cbe137c0062"
    }
   }
  }
 },
 "nbformat": 4,
 "nbformat_minor": 2,
 "cells": [
  {
   "source": [
    "## Part 1 ##\n",
    "\n",
    "Website Scraping and built a dataframe of the postal code of each neighborhood along with the borough name and neighborhood name"
   ],
   "cell_type": "markdown",
   "metadata": {}
  },
  {
   "cell_type": "code",
   "execution_count": 1,
   "metadata": {},
   "outputs": [
    {
     "output_type": "stream",
     "name": "stdout",
     "text": [
      "Requirement already satisfied: requests in /usr/local/lib/python3.8/site-packages (2.24.0)\n",
      "Requirement already satisfied: idna<3,>=2.5 in /usr/local/lib/python3.8/site-packages (from requests) (2.10)\n",
      "Requirement already satisfied: chardet<4,>=3.0.2 in /usr/local/lib/python3.8/site-packages (from requests) (3.0.4)\n",
      "Requirement already satisfied: certifi>=2017.4.17 in /usr/local/lib/python3.8/site-packages (from requests) (2020.6.20)\n",
      "Requirement already satisfied: urllib3!=1.25.0,!=1.25.1,<1.26,>=1.21.1 in /usr/local/lib/python3.8/site-packages (from requests) (1.25.11)\n",
      "Requirement already satisfied: BeautifulSoup4 in /usr/local/lib/python3.8/site-packages (4.9.3)\n",
      "Requirement already satisfied: soupsieve>1.2; python_version >= \"3.0\" in /usr/local/lib/python3.8/site-packages (from BeautifulSoup4) (2.0.1)\n",
      "Requirement already satisfied: Nominatim in /usr/local/lib/python3.8/site-packages (0.1)\n",
      "Requirement already satisfied: folium in /usr/local/lib/python3.8/site-packages (0.11.0)\n",
      "Requirement already satisfied: branca>=0.3.0 in /usr/local/lib/python3.8/site-packages (from folium) (0.4.1)\n",
      "Requirement already satisfied: numpy in /Users/cotonet/Library/Python/3.8/lib/python/site-packages (from folium) (1.19.2)\n",
      "Requirement already satisfied: requests in /usr/local/lib/python3.8/site-packages (from folium) (2.24.0)\n",
      "Requirement already satisfied: jinja2>=2.9 in /Users/cotonet/Library/Python/3.8/lib/python/site-packages (from folium) (2.11.2)\n",
      "Requirement already satisfied: urllib3!=1.25.0,!=1.25.1,<1.26,>=1.21.1 in /usr/local/lib/python3.8/site-packages (from requests->folium) (1.25.11)\n",
      "Requirement already satisfied: certifi>=2017.4.17 in /usr/local/lib/python3.8/site-packages (from requests->folium) (2020.6.20)\n",
      "Requirement already satisfied: idna<3,>=2.5 in /usr/local/lib/python3.8/site-packages (from requests->folium) (2.10)\n",
      "Requirement already satisfied: chardet<4,>=3.0.2 in /usr/local/lib/python3.8/site-packages (from requests->folium) (3.0.4)\n",
      "Requirement already satisfied: MarkupSafe>=0.23 in /Users/cotonet/Library/Python/3.8/lib/python/site-packages (from jinja2>=2.9->folium) (1.1.1)\n",
      "Requirement already satisfied: geopy in /usr/local/lib/python3.8/site-packages (2.0.0)\n",
      "Requirement already satisfied: geographiclib<2,>=1.49 in /usr/local/lib/python3.8/site-packages (from geopy) (1.50)\n"
     ]
    }
   ],
   "source": [
    "!pip3 install requests\n",
    "!pip3 install BeautifulSoup4\n",
    "!pip3 install Nominatim\n",
    "!pip3 install folium\n",
    "!pip3 install geopy\n",
    "\n",
    "import pandas as pd\n",
    "import numpy as np\n",
    "import requests as req\n",
    "from bs4 import BeautifulSoup"
   ]
  },
  {
   "cell_type": "code",
   "execution_count": 2,
   "metadata": {},
   "outputs": [],
   "source": [
    "URL = 'https://en.wikipedia.org/wiki/List_of_postal_codes_of_Canada:_M'\n",
    "r = req.get(URL)\n",
    "soup = BeautifulSoup(r.content)"
   ]
  },
  {
   "cell_type": "code",
   "execution_count": 3,
   "metadata": {},
   "outputs": [
    {
     "output_type": "stream",
     "name": "stdout",
     "text": [
      "<class 'pandas.core.frame.DataFrame'>\nRangeIndex: 103 entries, 0 to 102\nData columns (total 3 columns):\n #   Column        Non-Null Count  Dtype \n---  ------        --------------  ----- \n 0   PostalCode    103 non-null    object\n 1   Borough       103 non-null    object\n 2   Neighborhood  103 non-null    object\ndtypes: object(3)\nmemory usage: 2.5+ KB\n"
     ]
    },
    {
     "output_type": "execute_result",
     "data": {
      "text/plain": [
       "   PostalCode           Borough  \\\n",
       "0         M3A        North York   \n",
       "1         M4A        North York   \n",
       "2         M5A  Downtown Toronto   \n",
       "3         M6A        North York   \n",
       "4         M7A  Downtown Toronto   \n",
       "5         M9A         Etobicoke   \n",
       "6         M1B       Scarborough   \n",
       "7         M3B        North York   \n",
       "8         M4B         East York   \n",
       "9         M5B  Downtown Toronto   \n",
       "10        M6B        North York   \n",
       "11        M9B         Etobicoke   \n",
       "\n",
       "                                         Neighborhood  \n",
       "0                                           Parkwoods  \n",
       "1                                    Victoria Village  \n",
       "2                           Regent Park, Harbourfront  \n",
       "3                    Lawrence Manor, Lawrence Heights  \n",
       "4         Queen's Park, Ontario Provincial Government  \n",
       "5             Islington Avenue, Humber Valley Village  \n",
       "6                                      Malvern, Rouge  \n",
       "7                                           Don Mills  \n",
       "8                     Parkview Hill, Woodbine Gardens  \n",
       "9                            Garden District, Ryerson  \n",
       "10                                          Glencairn  \n",
       "11  West Deane Park, Princess Gardens, Martin Grov...  "
      ],
      "text/html": "<div>\n<style scoped>\n    .dataframe tbody tr th:only-of-type {\n        vertical-align: middle;\n    }\n\n    .dataframe tbody tr th {\n        vertical-align: top;\n    }\n\n    .dataframe thead th {\n        text-align: right;\n    }\n</style>\n<table border=\"1\" class=\"dataframe\">\n  <thead>\n    <tr style=\"text-align: right;\">\n      <th></th>\n      <th>PostalCode</th>\n      <th>Borough</th>\n      <th>Neighborhood</th>\n    </tr>\n  </thead>\n  <tbody>\n    <tr>\n      <th>0</th>\n      <td>M3A</td>\n      <td>North York</td>\n      <td>Parkwoods</td>\n    </tr>\n    <tr>\n      <th>1</th>\n      <td>M4A</td>\n      <td>North York</td>\n      <td>Victoria Village</td>\n    </tr>\n    <tr>\n      <th>2</th>\n      <td>M5A</td>\n      <td>Downtown Toronto</td>\n      <td>Regent Park, Harbourfront</td>\n    </tr>\n    <tr>\n      <th>3</th>\n      <td>M6A</td>\n      <td>North York</td>\n      <td>Lawrence Manor, Lawrence Heights</td>\n    </tr>\n    <tr>\n      <th>4</th>\n      <td>M7A</td>\n      <td>Downtown Toronto</td>\n      <td>Queen's Park, Ontario Provincial Government</td>\n    </tr>\n    <tr>\n      <th>5</th>\n      <td>M9A</td>\n      <td>Etobicoke</td>\n      <td>Islington Avenue, Humber Valley Village</td>\n    </tr>\n    <tr>\n      <th>6</th>\n      <td>M1B</td>\n      <td>Scarborough</td>\n      <td>Malvern, Rouge</td>\n    </tr>\n    <tr>\n      <th>7</th>\n      <td>M3B</td>\n      <td>North York</td>\n      <td>Don Mills</td>\n    </tr>\n    <tr>\n      <th>8</th>\n      <td>M4B</td>\n      <td>East York</td>\n      <td>Parkview Hill, Woodbine Gardens</td>\n    </tr>\n    <tr>\n      <th>9</th>\n      <td>M5B</td>\n      <td>Downtown Toronto</td>\n      <td>Garden District, Ryerson</td>\n    </tr>\n    <tr>\n      <th>10</th>\n      <td>M6B</td>\n      <td>North York</td>\n      <td>Glencairn</td>\n    </tr>\n    <tr>\n      <th>11</th>\n      <td>M9B</td>\n      <td>Etobicoke</td>\n      <td>West Deane Park, Princess Gardens, Martin Grov...</td>\n    </tr>\n  </tbody>\n</table>\n</div>"
     },
     "metadata": {},
     "execution_count": 3
    }
   ],
   "source": [
    "# first table\n",
    "table = soup.find_all(\"table\")[0]\n",
    "\n",
    "# The dataframe will consist of three columns: PostalCode, Borough, and Neighborhood\n",
    "df = pd.DataFrame(columns=[ 'PostalCode','Borough','Neighborhood'])\n",
    "\n",
    "# rows\n",
    "for row in table.findAll(\"tr\"):\n",
    "    #cells\n",
    "    cells = row.findAll(\"td\")\n",
    "    # got 3 cells ???\n",
    "    if len(cells) == 3:\n",
    "        postal_code = cells[0].find(text=True).strip()\n",
    "        borough = cells[1].find(text=True).strip()\n",
    "        neighborhood = cells[2].find(text=True).strip()\n",
    "        #Only process the cells that have an assigned borough. Ignore cells with a borough that is Not assigned\n",
    "        if \"Not assigned\" not in borough:\n",
    "            fields = pd.Series({'PostalCode':postal_code,'Borough':borough,'Neighborhood':neighborhood})\n",
    "            df=df.append(fields,ignore_index=True)\n",
    "# data frame info\n",
    "df.info()\n",
    "\n",
    "# first records\n",
    "df.head(12)\n"
   ]
  },
  {
   "cell_type": "code",
   "execution_count": 4,
   "metadata": {},
   "outputs": [
    {
     "output_type": "execute_result",
     "data": {
      "text/plain": [
       "  PostalCode           Borough               Neighborhood\n",
       "2        M5A  Downtown Toronto  Regent Park, Harbourfront"
      ],
      "text/html": "<div>\n<style scoped>\n    .dataframe tbody tr th:only-of-type {\n        vertical-align: middle;\n    }\n\n    .dataframe tbody tr th {\n        vertical-align: top;\n    }\n\n    .dataframe thead th {\n        text-align: right;\n    }\n</style>\n<table border=\"1\" class=\"dataframe\">\n  <thead>\n    <tr style=\"text-align: right;\">\n      <th></th>\n      <th>PostalCode</th>\n      <th>Borough</th>\n      <th>Neighborhood</th>\n    </tr>\n  </thead>\n  <tbody>\n    <tr>\n      <th>2</th>\n      <td>M5A</td>\n      <td>Downtown Toronto</td>\n      <td>Regent Park, Harbourfront</td>\n    </tr>\n  </tbody>\n</table>\n</div>"
     },
     "metadata": {},
     "execution_count": 4
    }
   ],
   "source": [
    "# More than one neighborhood can exist in one postal code area. For example, in the table on the Wikipedia page, you will notice that M5A is listed twice and has two neighborhoods: Harbourfront and Regent Park. These two rows will be combined into one row with the neighborhoods separated with a comma as shown in row 11 in the above table.\n",
    "\n",
    "df[df['PostalCode']=='M5A']"
   ]
  },
  {
   "cell_type": "code",
   "execution_count": 5,
   "metadata": {},
   "outputs": [
    {
     "output_type": "execute_result",
     "data": {
      "text/plain": [
       "Empty DataFrame\n",
       "Columns: [PostalCode, Borough, Neighborhood]\n",
       "Index: []"
      ],
      "text/html": "<div>\n<style scoped>\n    .dataframe tbody tr th:only-of-type {\n        vertical-align: middle;\n    }\n\n    .dataframe tbody tr th {\n        vertical-align: top;\n    }\n\n    .dataframe thead th {\n        text-align: right;\n    }\n</style>\n<table border=\"1\" class=\"dataframe\">\n  <thead>\n    <tr style=\"text-align: right;\">\n      <th></th>\n      <th>PostalCode</th>\n      <th>Borough</th>\n      <th>Neighborhood</th>\n    </tr>\n  </thead>\n  <tbody>\n  </tbody>\n</table>\n</div>"
     },
     "metadata": {},
     "execution_count": 5
    }
   ],
   "source": [
    "# If a cell has a borough but a Not assigned neighborhood, then the neighborhood will be the same as the borough.\n",
    "\n",
    "df[df['Neighborhood']=='Not assigned']"
   ]
  },
  {
   "cell_type": "code",
   "execution_count": 6,
   "metadata": {},
   "outputs": [
    {
     "output_type": "execute_result",
     "data": {
      "text/plain": [
       "(103, 3)"
      ]
     },
     "metadata": {},
     "execution_count": 6
    }
   ],
   "source": [
    "# In the last cell of your notebook, use the .shape method to print the number of rows of your dataframe.\n",
    "\n",
    "df.shape"
   ]
  },
  {
   "source": [],
   "cell_type": "markdown",
   "metadata": {}
  },
  {
   "source": [
    "## Part 2 ##\n",
    "\n",
    "Get the latitude and the longitude coordinates of each neighborhood.\n"
   ],
   "cell_type": "markdown",
   "metadata": {}
  },
  {
   "cell_type": "code",
   "execution_count": 7,
   "metadata": {},
   "outputs": [
    {
     "output_type": "execute_result",
     "data": {
      "text/plain": [
       "    PostalCode   Latitude  Longitude\n",
       "0          M1B  43.806686 -79.194353\n",
       "1          M1C  43.784535 -79.160497\n",
       "2          M1E  43.763573 -79.188711\n",
       "3          M1G  43.770992 -79.216917\n",
       "4          M1H  43.773136 -79.239476\n",
       "..         ...        ...        ...\n",
       "98         M9N  43.706876 -79.518188\n",
       "99         M9P  43.696319 -79.532242\n",
       "100        M9R  43.688905 -79.554724\n",
       "101        M9V  43.739416 -79.588437\n",
       "102        M9W  43.706748 -79.594054\n",
       "\n",
       "[103 rows x 3 columns]"
      ],
      "text/html": "<div>\n<style scoped>\n    .dataframe tbody tr th:only-of-type {\n        vertical-align: middle;\n    }\n\n    .dataframe tbody tr th {\n        vertical-align: top;\n    }\n\n    .dataframe thead th {\n        text-align: right;\n    }\n</style>\n<table border=\"1\" class=\"dataframe\">\n  <thead>\n    <tr style=\"text-align: right;\">\n      <th></th>\n      <th>PostalCode</th>\n      <th>Latitude</th>\n      <th>Longitude</th>\n    </tr>\n  </thead>\n  <tbody>\n    <tr>\n      <th>0</th>\n      <td>M1B</td>\n      <td>43.806686</td>\n      <td>-79.194353</td>\n    </tr>\n    <tr>\n      <th>1</th>\n      <td>M1C</td>\n      <td>43.784535</td>\n      <td>-79.160497</td>\n    </tr>\n    <tr>\n      <th>2</th>\n      <td>M1E</td>\n      <td>43.763573</td>\n      <td>-79.188711</td>\n    </tr>\n    <tr>\n      <th>3</th>\n      <td>M1G</td>\n      <td>43.770992</td>\n      <td>-79.216917</td>\n    </tr>\n    <tr>\n      <th>4</th>\n      <td>M1H</td>\n      <td>43.773136</td>\n      <td>-79.239476</td>\n    </tr>\n    <tr>\n      <th>...</th>\n      <td>...</td>\n      <td>...</td>\n      <td>...</td>\n    </tr>\n    <tr>\n      <th>98</th>\n      <td>M9N</td>\n      <td>43.706876</td>\n      <td>-79.518188</td>\n    </tr>\n    <tr>\n      <th>99</th>\n      <td>M9P</td>\n      <td>43.696319</td>\n      <td>-79.532242</td>\n    </tr>\n    <tr>\n      <th>100</th>\n      <td>M9R</td>\n      <td>43.688905</td>\n      <td>-79.554724</td>\n    </tr>\n    <tr>\n      <th>101</th>\n      <td>M9V</td>\n      <td>43.739416</td>\n      <td>-79.588437</td>\n    </tr>\n    <tr>\n      <th>102</th>\n      <td>M9W</td>\n      <td>43.706748</td>\n      <td>-79.594054</td>\n    </tr>\n  </tbody>\n</table>\n<p>103 rows × 3 columns</p>\n</div>"
     },
     "metadata": {},
     "execution_count": 7
    }
   ],
   "source": [
    "# read geographical coordinates of each postal code\n",
    "df_geo = pd.read_csv('Geospatial_Coordinates.csv')\n",
    "\n",
    "# rename column Postal Code\n",
    "df_geo.rename(columns = {'Postal Code': 'PostalCode'}, inplace = True)\n",
    "\n",
    "df_geo"
   ]
  },
  {
   "cell_type": "code",
   "execution_count": 8,
   "metadata": {},
   "outputs": [
    {
     "output_type": "execute_result",
     "data": {
      "text/plain": [
       "   PostalCode           Borough  \\\n",
       "0         M3A        North York   \n",
       "1         M4A        North York   \n",
       "2         M5A  Downtown Toronto   \n",
       "3         M6A        North York   \n",
       "4         M7A  Downtown Toronto   \n",
       "5         M9A         Etobicoke   \n",
       "6         M1B       Scarborough   \n",
       "7         M3B        North York   \n",
       "8         M4B         East York   \n",
       "9         M5B  Downtown Toronto   \n",
       "10        M6B        North York   \n",
       "11        M9B         Etobicoke   \n",
       "\n",
       "                                         Neighborhood   Latitude  Longitude  \n",
       "0                                           Parkwoods  43.753259 -79.329656  \n",
       "1                                    Victoria Village  43.725882 -79.315572  \n",
       "2                           Regent Park, Harbourfront  43.654260 -79.360636  \n",
       "3                    Lawrence Manor, Lawrence Heights  43.718518 -79.464763  \n",
       "4         Queen's Park, Ontario Provincial Government  43.662301 -79.389494  \n",
       "5             Islington Avenue, Humber Valley Village  43.667856 -79.532242  \n",
       "6                                      Malvern, Rouge  43.806686 -79.194353  \n",
       "7                                           Don Mills  43.745906 -79.352188  \n",
       "8                     Parkview Hill, Woodbine Gardens  43.706397 -79.309937  \n",
       "9                            Garden District, Ryerson  43.657162 -79.378937  \n",
       "10                                          Glencairn  43.709577 -79.445073  \n",
       "11  West Deane Park, Princess Gardens, Martin Grov...  43.650943 -79.554724  "
      ],
      "text/html": "<div>\n<style scoped>\n    .dataframe tbody tr th:only-of-type {\n        vertical-align: middle;\n    }\n\n    .dataframe tbody tr th {\n        vertical-align: top;\n    }\n\n    .dataframe thead th {\n        text-align: right;\n    }\n</style>\n<table border=\"1\" class=\"dataframe\">\n  <thead>\n    <tr style=\"text-align: right;\">\n      <th></th>\n      <th>PostalCode</th>\n      <th>Borough</th>\n      <th>Neighborhood</th>\n      <th>Latitude</th>\n      <th>Longitude</th>\n    </tr>\n  </thead>\n  <tbody>\n    <tr>\n      <th>0</th>\n      <td>M3A</td>\n      <td>North York</td>\n      <td>Parkwoods</td>\n      <td>43.753259</td>\n      <td>-79.329656</td>\n    </tr>\n    <tr>\n      <th>1</th>\n      <td>M4A</td>\n      <td>North York</td>\n      <td>Victoria Village</td>\n      <td>43.725882</td>\n      <td>-79.315572</td>\n    </tr>\n    <tr>\n      <th>2</th>\n      <td>M5A</td>\n      <td>Downtown Toronto</td>\n      <td>Regent Park, Harbourfront</td>\n      <td>43.654260</td>\n      <td>-79.360636</td>\n    </tr>\n    <tr>\n      <th>3</th>\n      <td>M6A</td>\n      <td>North York</td>\n      <td>Lawrence Manor, Lawrence Heights</td>\n      <td>43.718518</td>\n      <td>-79.464763</td>\n    </tr>\n    <tr>\n      <th>4</th>\n      <td>M7A</td>\n      <td>Downtown Toronto</td>\n      <td>Queen's Park, Ontario Provincial Government</td>\n      <td>43.662301</td>\n      <td>-79.389494</td>\n    </tr>\n    <tr>\n      <th>5</th>\n      <td>M9A</td>\n      <td>Etobicoke</td>\n      <td>Islington Avenue, Humber Valley Village</td>\n      <td>43.667856</td>\n      <td>-79.532242</td>\n    </tr>\n    <tr>\n      <th>6</th>\n      <td>M1B</td>\n      <td>Scarborough</td>\n      <td>Malvern, Rouge</td>\n      <td>43.806686</td>\n      <td>-79.194353</td>\n    </tr>\n    <tr>\n      <th>7</th>\n      <td>M3B</td>\n      <td>North York</td>\n      <td>Don Mills</td>\n      <td>43.745906</td>\n      <td>-79.352188</td>\n    </tr>\n    <tr>\n      <th>8</th>\n      <td>M4B</td>\n      <td>East York</td>\n      <td>Parkview Hill, Woodbine Gardens</td>\n      <td>43.706397</td>\n      <td>-79.309937</td>\n    </tr>\n    <tr>\n      <th>9</th>\n      <td>M5B</td>\n      <td>Downtown Toronto</td>\n      <td>Garden District, Ryerson</td>\n      <td>43.657162</td>\n      <td>-79.378937</td>\n    </tr>\n    <tr>\n      <th>10</th>\n      <td>M6B</td>\n      <td>North York</td>\n      <td>Glencairn</td>\n      <td>43.709577</td>\n      <td>-79.445073</td>\n    </tr>\n    <tr>\n      <th>11</th>\n      <td>M9B</td>\n      <td>Etobicoke</td>\n      <td>West Deane Park, Princess Gardens, Martin Grov...</td>\n      <td>43.650943</td>\n      <td>-79.554724</td>\n    </tr>\n  </tbody>\n</table>\n</div>"
     },
     "metadata": {},
     "execution_count": 8
    }
   ],
   "source": [
    "df2 = pd.merge(df,df_geo,on='PostalCode')\n",
    "\n",
    "df2.head(12)"
   ]
  },
  {
   "source": [],
   "cell_type": "markdown",
   "metadata": {}
  },
  {
   "cell_type": "code",
   "execution_count": null,
   "metadata": {},
   "outputs": [],
   "source": []
  },
  {
   "source": [
    "## Part 3 ##\n",
    "\n",
    "Explore and cluster the neighborhoods in Toronto."
   ],
   "cell_type": "markdown",
   "metadata": {}
  },
  {
   "cell_type": "code",
   "execution_count": 9,
   "metadata": {},
   "outputs": [
    {
     "output_type": "stream",
     "name": "stdout",
     "text": [
      "Libraries imported.\n"
     ]
    }
   ],
   "source": [
    "\n",
    "from geopy.geocoders import Nominatim\n",
    "import folium\n",
    "\n",
    "print('Libraries imported.')"
   ]
  },
  {
   "cell_type": "code",
   "execution_count": 10,
   "metadata": {},
   "outputs": [
    {
     "output_type": "execute_result",
     "data": {
      "text/plain": [
       "   PostalCode           Borough                                 Neighborhood  \\\n",
       "2         M5A  Downtown Toronto                    Regent Park, Harbourfront   \n",
       "4         M7A  Downtown Toronto  Queen's Park, Ontario Provincial Government   \n",
       "9         M5B  Downtown Toronto                     Garden District, Ryerson   \n",
       "15        M5C  Downtown Toronto                               St. James Town   \n",
       "19        M4E      East Toronto                                  The Beaches   \n",
       "\n",
       "     Latitude  Longitude  \n",
       "2   43.654260 -79.360636  \n",
       "4   43.662301 -79.389494  \n",
       "9   43.657162 -79.378937  \n",
       "15  43.651494 -79.375418  \n",
       "19  43.676357 -79.293031  "
      ],
      "text/html": "<div>\n<style scoped>\n    .dataframe tbody tr th:only-of-type {\n        vertical-align: middle;\n    }\n\n    .dataframe tbody tr th {\n        vertical-align: top;\n    }\n\n    .dataframe thead th {\n        text-align: right;\n    }\n</style>\n<table border=\"1\" class=\"dataframe\">\n  <thead>\n    <tr style=\"text-align: right;\">\n      <th></th>\n      <th>PostalCode</th>\n      <th>Borough</th>\n      <th>Neighborhood</th>\n      <th>Latitude</th>\n      <th>Longitude</th>\n    </tr>\n  </thead>\n  <tbody>\n    <tr>\n      <th>2</th>\n      <td>M5A</td>\n      <td>Downtown Toronto</td>\n      <td>Regent Park, Harbourfront</td>\n      <td>43.654260</td>\n      <td>-79.360636</td>\n    </tr>\n    <tr>\n      <th>4</th>\n      <td>M7A</td>\n      <td>Downtown Toronto</td>\n      <td>Queen's Park, Ontario Provincial Government</td>\n      <td>43.662301</td>\n      <td>-79.389494</td>\n    </tr>\n    <tr>\n      <th>9</th>\n      <td>M5B</td>\n      <td>Downtown Toronto</td>\n      <td>Garden District, Ryerson</td>\n      <td>43.657162</td>\n      <td>-79.378937</td>\n    </tr>\n    <tr>\n      <th>15</th>\n      <td>M5C</td>\n      <td>Downtown Toronto</td>\n      <td>St. James Town</td>\n      <td>43.651494</td>\n      <td>-79.375418</td>\n    </tr>\n    <tr>\n      <th>19</th>\n      <td>M4E</td>\n      <td>East Toronto</td>\n      <td>The Beaches</td>\n      <td>43.676357</td>\n      <td>-79.293031</td>\n    </tr>\n  </tbody>\n</table>\n</div>"
     },
     "metadata": {},
     "execution_count": 10
    }
   ],
   "source": [
    "# work with only boroughs that contain the word Toronto \n",
    "\n",
    "df_toronto = df2[df2['Borough'].str.contains(\"Toronto\")]\n",
    "df_toronto.head()"
   ]
  },
  {
   "cell_type": "code",
   "execution_count": 11,
   "metadata": {},
   "outputs": [
    {
     "output_type": "stream",
     "name": "stdout",
     "text": [
      "The geograpical coordinate of Toronto City are 43.6534817, -79.3839347.\n"
     ]
    }
   ],
   "source": [
    "# Use geopy library to get the latitude and longitude values of Toronto.\n",
    "\n",
    "address = 'Toronto, Canada'\n",
    "\n",
    "geolocator = Nominatim(user_agent=\"to_explorer\")\n",
    "location = geolocator.geocode(address)\n",
    "latitude = location.latitude\n",
    "longitude = location.longitude\n",
    "print('The geograpical coordinate of Toronto City are {}, {}.'.format(latitude, longitude))"
   ]
  },
  {
   "cell_type": "code",
   "execution_count": 12,
   "metadata": {},
   "outputs": [
    {
     "output_type": "execute_result",
     "data": {
      "text/plain": [
       "<folium.folium.Map at 0x126574730>"
      ],
      "text/html": "<div style=\"width:100%;\"><div style=\"position:relative;width:100%;height:0;padding-bottom:60%;\"><span style=\"color:#565656\">Make this Notebook Trusted to load map: File -> Trust Notebook</span><iframe src=\"about:blank\" style=\"position:absolute;width:100%;height:100%;left:0;top:0;border:none !important;\" data-html=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 onload=\"this.contentDocument.open();this.contentDocument.write(atob(this.getAttribute('data-html')));this.contentDocument.close();\" allowfullscreen webkitallowfullscreen mozallowfullscreen></iframe></div></div>"
     },
     "metadata": {},
     "execution_count": 12
    }
   ],
   "source": [
    "# Create a map of Toronto with neighborhoods superimposed on top.\n",
    "\n",
    "map_toronto = folium.Map(location=[latitude, longitude], zoom_start=12)\n",
    "\n",
    "# add markers to map\n",
    "for lat, lng, borough, neighborhood in zip(df_toronto['Latitude'], df_toronto['Longitude'], df_toronto['Borough'], df_toronto['Neighborhood']):\n",
    "    label = '{}, {}'.format(neighborhood, borough)\n",
    "    label = folium.Popup(label, parse_html=True)\n",
    "    folium.CircleMarker(\n",
    "        [lat, lng],\n",
    "        radius=5,\n",
    "        popup=label,\n",
    "        color='blue',\n",
    "        fill=True,\n",
    "        fill_color='#3186cc',\n",
    "        fill_opacity=0.7,\n",
    "        parse_html=False).add_to(map_toronto)  \n",
    "    \n",
    "map_toronto"
   ]
  },
  {
   "cell_type": "code",
   "execution_count": null,
   "metadata": {},
   "outputs": [],
   "source": []
  }
 ]
}
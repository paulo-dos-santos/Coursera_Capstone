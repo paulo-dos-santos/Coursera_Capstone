{
 "metadata": {
  "language_info": {
   "codemirror_mode": {
    "name": "ipython",
    "version": 3
   },
   "file_extension": ".py",
   "mimetype": "text/x-python",
   "name": "python",
   "nbconvert_exporter": "python",
   "pygments_lexer": "ipython3",
   "version": "3.8.6-final"
  },
  "orig_nbformat": 2,
  "kernelspec": {
   "name": "Python 3.8.6 64-bit",
   "display_name": "Python 3.8.6 64-bit",
   "metadata": {
    "interpreter": {
     "hash": "1ee38ef4a5a9feb55287fd749643f13d043cb0a7addaab2a9c224cbe137c0062"
    }
   }
  }
 },
 "nbformat": 4,
 "nbformat_minor": 2,
 "cells": [
  {
   "source": [
    "## Part 1 ##\n",
    "\n",
    "Website Scraping and built a dataframe of the postal code of each neighborhood along with the borough name and neighborhood name"
   ],
   "cell_type": "markdown",
   "metadata": {}
  },
  {
   "cell_type": "code",
   "execution_count": 1,
   "metadata": {},
   "outputs": [],
   "source": [
    "import pandas as pd\n",
    "import numpy as np\n",
    "import requests as req\n",
    "from bs4 import BeautifulSoup"
   ]
  },
  {
   "cell_type": "code",
   "execution_count": 2,
   "metadata": {},
   "outputs": [],
   "source": [
    "URL = 'https://en.wikipedia.org/wiki/List_of_postal_codes_of_Canada:_M'\n",
    "r = req.get(URL)\n",
    "soup = BeautifulSoup(r.content)"
   ]
  },
  {
   "cell_type": "code",
   "execution_count": 3,
   "metadata": {},
   "outputs": [
    {
     "output_type": "stream",
     "name": "stdout",
     "text": [
      "<class 'pandas.core.frame.DataFrame'>\nRangeIndex: 103 entries, 0 to 102\nData columns (total 3 columns):\n #   Column        Non-Null Count  Dtype \n---  ------        --------------  ----- \n 0   PostalCode    103 non-null    object\n 1   Borough       103 non-null    object\n 2   Neighborhood  103 non-null    object\ndtypes: object(3)\nmemory usage: 2.5+ KB\n"
     ]
    },
    {
     "output_type": "execute_result",
     "data": {
      "text/plain": [
       "   PostalCode           Borough  \\\n",
       "0         M3A        North York   \n",
       "1         M4A        North York   \n",
       "2         M5A  Downtown Toronto   \n",
       "3         M6A        North York   \n",
       "4         M7A  Downtown Toronto   \n",
       "5         M9A         Etobicoke   \n",
       "6         M1B       Scarborough   \n",
       "7         M3B        North York   \n",
       "8         M4B         East York   \n",
       "9         M5B  Downtown Toronto   \n",
       "10        M6B        North York   \n",
       "11        M9B         Etobicoke   \n",
       "\n",
       "                                         Neighborhood  \n",
       "0                                           Parkwoods  \n",
       "1                                    Victoria Village  \n",
       "2                           Regent Park, Harbourfront  \n",
       "3                    Lawrence Manor, Lawrence Heights  \n",
       "4         Queen's Park, Ontario Provincial Government  \n",
       "5             Islington Avenue, Humber Valley Village  \n",
       "6                                      Malvern, Rouge  \n",
       "7                                           Don Mills  \n",
       "8                     Parkview Hill, Woodbine Gardens  \n",
       "9                            Garden District, Ryerson  \n",
       "10                                          Glencairn  \n",
       "11  West Deane Park, Princess Gardens, Martin Grov...  "
      ],
      "text/html": "<div>\n<style scoped>\n    .dataframe tbody tr th:only-of-type {\n        vertical-align: middle;\n    }\n\n    .dataframe tbody tr th {\n        vertical-align: top;\n    }\n\n    .dataframe thead th {\n        text-align: right;\n    }\n</style>\n<table border=\"1\" class=\"dataframe\">\n  <thead>\n    <tr style=\"text-align: right;\">\n      <th></th>\n      <th>PostalCode</th>\n      <th>Borough</th>\n      <th>Neighborhood</th>\n    </tr>\n  </thead>\n  <tbody>\n    <tr>\n      <th>0</th>\n      <td>M3A</td>\n      <td>North York</td>\n      <td>Parkwoods</td>\n    </tr>\n    <tr>\n      <th>1</th>\n      <td>M4A</td>\n      <td>North York</td>\n      <td>Victoria Village</td>\n    </tr>\n    <tr>\n      <th>2</th>\n      <td>M5A</td>\n      <td>Downtown Toronto</td>\n      <td>Regent Park, Harbourfront</td>\n    </tr>\n    <tr>\n      <th>3</th>\n      <td>M6A</td>\n      <td>North York</td>\n      <td>Lawrence Manor, Lawrence Heights</td>\n    </tr>\n    <tr>\n      <th>4</th>\n      <td>M7A</td>\n      <td>Downtown Toronto</td>\n      <td>Queen's Park, Ontario Provincial Government</td>\n    </tr>\n    <tr>\n      <th>5</th>\n      <td>M9A</td>\n      <td>Etobicoke</td>\n      <td>Islington Avenue, Humber Valley Village</td>\n    </tr>\n    <tr>\n      <th>6</th>\n      <td>M1B</td>\n      <td>Scarborough</td>\n      <td>Malvern, Rouge</td>\n    </tr>\n    <tr>\n      <th>7</th>\n      <td>M3B</td>\n      <td>North York</td>\n      <td>Don Mills</td>\n    </tr>\n    <tr>\n      <th>8</th>\n      <td>M4B</td>\n      <td>East York</td>\n      <td>Parkview Hill, Woodbine Gardens</td>\n    </tr>\n    <tr>\n      <th>9</th>\n      <td>M5B</td>\n      <td>Downtown Toronto</td>\n      <td>Garden District, Ryerson</td>\n    </tr>\n    <tr>\n      <th>10</th>\n      <td>M6B</td>\n      <td>North York</td>\n      <td>Glencairn</td>\n    </tr>\n    <tr>\n      <th>11</th>\n      <td>M9B</td>\n      <td>Etobicoke</td>\n      <td>West Deane Park, Princess Gardens, Martin Grov...</td>\n    </tr>\n  </tbody>\n</table>\n</div>"
     },
     "metadata": {},
     "execution_count": 3
    }
   ],
   "source": [
    "# first table\n",
    "table = soup.find_all(\"table\")[0]\n",
    "\n",
    "# The dataframe will consist of three columns: PostalCode, Borough, and Neighborhood\n",
    "df = pd.DataFrame(columns=[ 'PostalCode','Borough','Neighborhood'])\n",
    "\n",
    "# rows\n",
    "for row in table.findAll(\"tr\"):\n",
    "    #cells\n",
    "    cells = row.findAll(\"td\")\n",
    "    # got 3 cells ???\n",
    "    if len(cells) == 3:\n",
    "        postal_code = cells[0].find(text=True).strip()\n",
    "        borough = cells[1].find(text=True).strip()\n",
    "        neighborhood = cells[2].find(text=True).strip()\n",
    "        #Only process the cells that have an assigned borough. Ignore cells with a borough that is Not assigned\n",
    "        if \"Not assigned\" not in borough:\n",
    "            fields = pd.Series({'PostalCode':postal_code,'Borough':borough,'Neighborhood':neighborhood})\n",
    "            df=df.append(fields,ignore_index=True)\n",
    "# data frame info\n",
    "df.info()\n",
    "\n",
    "# first records\n",
    "df.head(12)\n"
   ]
  },
  {
   "cell_type": "code",
   "execution_count": 4,
   "metadata": {},
   "outputs": [
    {
     "output_type": "execute_result",
     "data": {
      "text/plain": [
       "  PostalCode           Borough               Neighborhood\n",
       "2        M5A  Downtown Toronto  Regent Park, Harbourfront"
      ],
      "text/html": "<div>\n<style scoped>\n    .dataframe tbody tr th:only-of-type {\n        vertical-align: middle;\n    }\n\n    .dataframe tbody tr th {\n        vertical-align: top;\n    }\n\n    .dataframe thead th {\n        text-align: right;\n    }\n</style>\n<table border=\"1\" class=\"dataframe\">\n  <thead>\n    <tr style=\"text-align: right;\">\n      <th></th>\n      <th>PostalCode</th>\n      <th>Borough</th>\n      <th>Neighborhood</th>\n    </tr>\n  </thead>\n  <tbody>\n    <tr>\n      <th>2</th>\n      <td>M5A</td>\n      <td>Downtown Toronto</td>\n      <td>Regent Park, Harbourfront</td>\n    </tr>\n  </tbody>\n</table>\n</div>"
     },
     "metadata": {},
     "execution_count": 4
    }
   ],
   "source": [
    "# More than one neighborhood can exist in one postal code area. For example, in the table on the Wikipedia page, you will notice that M5A is listed twice and has two neighborhoods: Harbourfront and Regent Park. These two rows will be combined into one row with the neighborhoods separated with a comma as shown in row 11 in the above table.\n",
    "\n",
    "df[df['PostalCode']=='M5A']"
   ]
  },
  {
   "cell_type": "code",
   "execution_count": 5,
   "metadata": {},
   "outputs": [
    {
     "output_type": "execute_result",
     "data": {
      "text/plain": [
       "Empty DataFrame\n",
       "Columns: [PostalCode, Borough, Neighborhood]\n",
       "Index: []"
      ],
      "text/html": "<div>\n<style scoped>\n    .dataframe tbody tr th:only-of-type {\n        vertical-align: middle;\n    }\n\n    .dataframe tbody tr th {\n        vertical-align: top;\n    }\n\n    .dataframe thead th {\n        text-align: right;\n    }\n</style>\n<table border=\"1\" class=\"dataframe\">\n  <thead>\n    <tr style=\"text-align: right;\">\n      <th></th>\n      <th>PostalCode</th>\n      <th>Borough</th>\n      <th>Neighborhood</th>\n    </tr>\n  </thead>\n  <tbody>\n  </tbody>\n</table>\n</div>"
     },
     "metadata": {},
     "execution_count": 5
    }
   ],
   "source": [
    "# If a cell has a borough but a Not assigned neighborhood, then the neighborhood will be the same as the borough.\n",
    "\n",
    "df[df['Neighborhood']=='Not assigned']"
   ]
  },
  {
   "cell_type": "code",
   "execution_count": 6,
   "metadata": {},
   "outputs": [
    {
     "output_type": "execute_result",
     "data": {
      "text/plain": [
       "(103, 3)"
      ]
     },
     "metadata": {},
     "execution_count": 6
    }
   ],
   "source": [
    "# In the last cell of your notebook, use the .shape method to print the number of rows of your dataframe.\n",
    "\n",
    "df.shape"
   ]
  },
  {
   "source": [],
   "cell_type": "markdown",
   "metadata": {}
  },
  {
   "source": [
    "## Part 2 ##\n",
    "\n",
    "Get the latitude and the longitude coordinates of each neighborhood.\n"
   ],
   "cell_type": "markdown",
   "metadata": {}
  },
  {
   "cell_type": "code",
   "execution_count": 7,
   "metadata": {},
   "outputs": [
    {
     "output_type": "execute_result",
     "data": {
      "text/plain": [
       "    PostalCode   Latitude  Longitude\n",
       "0          M1B  43.806686 -79.194353\n",
       "1          M1C  43.784535 -79.160497\n",
       "2          M1E  43.763573 -79.188711\n",
       "3          M1G  43.770992 -79.216917\n",
       "4          M1H  43.773136 -79.239476\n",
       "..         ...        ...        ...\n",
       "98         M9N  43.706876 -79.518188\n",
       "99         M9P  43.696319 -79.532242\n",
       "100        M9R  43.688905 -79.554724\n",
       "101        M9V  43.739416 -79.588437\n",
       "102        M9W  43.706748 -79.594054\n",
       "\n",
       "[103 rows x 3 columns]"
      ],
      "text/html": "<div>\n<style scoped>\n    .dataframe tbody tr th:only-of-type {\n        vertical-align: middle;\n    }\n\n    .dataframe tbody tr th {\n        vertical-align: top;\n    }\n\n    .dataframe thead th {\n        text-align: right;\n    }\n</style>\n<table border=\"1\" class=\"dataframe\">\n  <thead>\n    <tr style=\"text-align: right;\">\n      <th></th>\n      <th>PostalCode</th>\n      <th>Latitude</th>\n      <th>Longitude</th>\n    </tr>\n  </thead>\n  <tbody>\n    <tr>\n      <th>0</th>\n      <td>M1B</td>\n      <td>43.806686</td>\n      <td>-79.194353</td>\n    </tr>\n    <tr>\n      <th>1</th>\n      <td>M1C</td>\n      <td>43.784535</td>\n      <td>-79.160497</td>\n    </tr>\n    <tr>\n      <th>2</th>\n      <td>M1E</td>\n      <td>43.763573</td>\n      <td>-79.188711</td>\n    </tr>\n    <tr>\n      <th>3</th>\n      <td>M1G</td>\n      <td>43.770992</td>\n      <td>-79.216917</td>\n    </tr>\n    <tr>\n      <th>4</th>\n      <td>M1H</td>\n      <td>43.773136</td>\n      <td>-79.239476</td>\n    </tr>\n    <tr>\n      <th>...</th>\n      <td>...</td>\n      <td>...</td>\n      <td>...</td>\n    </tr>\n    <tr>\n      <th>98</th>\n      <td>M9N</td>\n      <td>43.706876</td>\n      <td>-79.518188</td>\n    </tr>\n    <tr>\n      <th>99</th>\n      <td>M9P</td>\n      <td>43.696319</td>\n      <td>-79.532242</td>\n    </tr>\n    <tr>\n      <th>100</th>\n      <td>M9R</td>\n      <td>43.688905</td>\n      <td>-79.554724</td>\n    </tr>\n    <tr>\n      <th>101</th>\n      <td>M9V</td>\n      <td>43.739416</td>\n      <td>-79.588437</td>\n    </tr>\n    <tr>\n      <th>102</th>\n      <td>M9W</td>\n      <td>43.706748</td>\n      <td>-79.594054</td>\n    </tr>\n  </tbody>\n</table>\n<p>103 rows × 3 columns</p>\n</div>"
     },
     "metadata": {},
     "execution_count": 7
    }
   ],
   "source": [
    "# read geographical coordinates of each postal code\n",
    "df_geo = pd.read_csv('Geospatial_Coordinates.csv')\n",
    "\n",
    "# rename column Postal Code\n",
    "df_geo.rename(columns = {'Postal Code': 'PostalCode'}, inplace = True)\n",
    "\n",
    "df_geo"
   ]
  },
  {
   "cell_type": "code",
   "execution_count": 8,
   "metadata": {},
   "outputs": [
    {
     "output_type": "execute_result",
     "data": {
      "text/plain": [
       "   PostalCode           Borough  \\\n",
       "0         M3A        North York   \n",
       "1         M4A        North York   \n",
       "2         M5A  Downtown Toronto   \n",
       "3         M6A        North York   \n",
       "4         M7A  Downtown Toronto   \n",
       "5         M9A         Etobicoke   \n",
       "6         M1B       Scarborough   \n",
       "7         M3B        North York   \n",
       "8         M4B         East York   \n",
       "9         M5B  Downtown Toronto   \n",
       "10        M6B        North York   \n",
       "11        M9B         Etobicoke   \n",
       "\n",
       "                                         Neighborhood   Latitude  Longitude  \n",
       "0                                           Parkwoods  43.753259 -79.329656  \n",
       "1                                    Victoria Village  43.725882 -79.315572  \n",
       "2                           Regent Park, Harbourfront  43.654260 -79.360636  \n",
       "3                    Lawrence Manor, Lawrence Heights  43.718518 -79.464763  \n",
       "4         Queen's Park, Ontario Provincial Government  43.662301 -79.389494  \n",
       "5             Islington Avenue, Humber Valley Village  43.667856 -79.532242  \n",
       "6                                      Malvern, Rouge  43.806686 -79.194353  \n",
       "7                                           Don Mills  43.745906 -79.352188  \n",
       "8                     Parkview Hill, Woodbine Gardens  43.706397 -79.309937  \n",
       "9                            Garden District, Ryerson  43.657162 -79.378937  \n",
       "10                                          Glencairn  43.709577 -79.445073  \n",
       "11  West Deane Park, Princess Gardens, Martin Grov...  43.650943 -79.554724  "
      ],
      "text/html": "<div>\n<style scoped>\n    .dataframe tbody tr th:only-of-type {\n        vertical-align: middle;\n    }\n\n    .dataframe tbody tr th {\n        vertical-align: top;\n    }\n\n    .dataframe thead th {\n        text-align: right;\n    }\n</style>\n<table border=\"1\" class=\"dataframe\">\n  <thead>\n    <tr style=\"text-align: right;\">\n      <th></th>\n      <th>PostalCode</th>\n      <th>Borough</th>\n      <th>Neighborhood</th>\n      <th>Latitude</th>\n      <th>Longitude</th>\n    </tr>\n  </thead>\n  <tbody>\n    <tr>\n      <th>0</th>\n      <td>M3A</td>\n      <td>North York</td>\n      <td>Parkwoods</td>\n      <td>43.753259</td>\n      <td>-79.329656</td>\n    </tr>\n    <tr>\n      <th>1</th>\n      <td>M4A</td>\n      <td>North York</td>\n      <td>Victoria Village</td>\n      <td>43.725882</td>\n      <td>-79.315572</td>\n    </tr>\n    <tr>\n      <th>2</th>\n      <td>M5A</td>\n      <td>Downtown Toronto</td>\n      <td>Regent Park, Harbourfront</td>\n      <td>43.654260</td>\n      <td>-79.360636</td>\n    </tr>\n    <tr>\n      <th>3</th>\n      <td>M6A</td>\n      <td>North York</td>\n      <td>Lawrence Manor, Lawrence Heights</td>\n      <td>43.718518</td>\n      <td>-79.464763</td>\n    </tr>\n    <tr>\n      <th>4</th>\n      <td>M7A</td>\n      <td>Downtown Toronto</td>\n      <td>Queen's Park, Ontario Provincial Government</td>\n      <td>43.662301</td>\n      <td>-79.389494</td>\n    </tr>\n    <tr>\n      <th>5</th>\n      <td>M9A</td>\n      <td>Etobicoke</td>\n      <td>Islington Avenue, Humber Valley Village</td>\n      <td>43.667856</td>\n      <td>-79.532242</td>\n    </tr>\n    <tr>\n      <th>6</th>\n      <td>M1B</td>\n      <td>Scarborough</td>\n      <td>Malvern, Rouge</td>\n      <td>43.806686</td>\n      <td>-79.194353</td>\n    </tr>\n    <tr>\n      <th>7</th>\n      <td>M3B</td>\n      <td>North York</td>\n      <td>Don Mills</td>\n      <td>43.745906</td>\n      <td>-79.352188</td>\n    </tr>\n    <tr>\n      <th>8</th>\n      <td>M4B</td>\n      <td>East York</td>\n      <td>Parkview Hill, Woodbine Gardens</td>\n      <td>43.706397</td>\n      <td>-79.309937</td>\n    </tr>\n    <tr>\n      <th>9</th>\n      <td>M5B</td>\n      <td>Downtown Toronto</td>\n      <td>Garden District, Ryerson</td>\n      <td>43.657162</td>\n      <td>-79.378937</td>\n    </tr>\n    <tr>\n      <th>10</th>\n      <td>M6B</td>\n      <td>North York</td>\n      <td>Glencairn</td>\n      <td>43.709577</td>\n      <td>-79.445073</td>\n    </tr>\n    <tr>\n      <th>11</th>\n      <td>M9B</td>\n      <td>Etobicoke</td>\n      <td>West Deane Park, Princess Gardens, Martin Grov...</td>\n      <td>43.650943</td>\n      <td>-79.554724</td>\n    </tr>\n  </tbody>\n</table>\n</div>"
     },
     "metadata": {},
     "execution_count": 8
    }
   ],
   "source": [
    "df2 = pd.merge(df,df_geo,on='PostalCode')\n",
    "\n",
    "df2.head(12)"
   ]
  },
  {
   "cell_type": "code",
   "execution_count": 59,
   "metadata": {},
   "outputs": [
    {
     "output_type": "execute_result",
     "data": {
      "text/plain": [
       "    PostalCode           Borough  \\\n",
       "2          M5A  Downtown Toronto   \n",
       "4          M7A  Downtown Toronto   \n",
       "9          M5B  Downtown Toronto   \n",
       "15         M5C  Downtown Toronto   \n",
       "19         M4E      East Toronto   \n",
       "20         M5E  Downtown Toronto   \n",
       "24         M5G  Downtown Toronto   \n",
       "25         M6G  Downtown Toronto   \n",
       "30         M5H  Downtown Toronto   \n",
       "31         M6H      West Toronto   \n",
       "36         M5J  Downtown Toronto   \n",
       "37         M6J      West Toronto   \n",
       "41         M4K      East Toronto   \n",
       "42         M5K  Downtown Toronto   \n",
       "43         M6K      West Toronto   \n",
       "47         M4L      East Toronto   \n",
       "48         M5L  Downtown Toronto   \n",
       "54         M4M      East Toronto   \n",
       "61         M4N   Central Toronto   \n",
       "62         M5N   Central Toronto   \n",
       "67         M4P   Central Toronto   \n",
       "68         M5P   Central Toronto   \n",
       "69         M6P      West Toronto   \n",
       "73         M4R   Central Toronto   \n",
       "74         M5R   Central Toronto   \n",
       "75         M6R      West Toronto   \n",
       "79         M4S   Central Toronto   \n",
       "80         M5S  Downtown Toronto   \n",
       "81         M6S      West Toronto   \n",
       "83         M4T   Central Toronto   \n",
       "84         M5T  Downtown Toronto   \n",
       "86         M4V   Central Toronto   \n",
       "87         M5V  Downtown Toronto   \n",
       "91         M4W  Downtown Toronto   \n",
       "92         M5W  Downtown Toronto   \n",
       "96         M4X  Downtown Toronto   \n",
       "97         M5X  Downtown Toronto   \n",
       "99         M4Y  Downtown Toronto   \n",
       "100        M7Y      East Toronto   \n",
       "\n",
       "                                          Neighborhood   Latitude  Longitude  \n",
       "2                            Regent Park, Harbourfront  43.654260 -79.360636  \n",
       "4          Queen's Park, Ontario Provincial Government  43.662301 -79.389494  \n",
       "9                             Garden District, Ryerson  43.657162 -79.378937  \n",
       "15                                      St. James Town  43.651494 -79.375418  \n",
       "19                                         The Beaches  43.676357 -79.293031  \n",
       "20                                         Berczy Park  43.644771 -79.373306  \n",
       "24                                  Central Bay Street  43.657952 -79.387383  \n",
       "25                                            Christie  43.669542 -79.422564  \n",
       "30                            Richmond, Adelaide, King  43.650571 -79.384568  \n",
       "31                        Dufferin, Dovercourt Village  43.669005 -79.442259  \n",
       "36   Harbourfront East, Union Station, Toronto Islands  43.640816 -79.381752  \n",
       "37                            Little Portugal, Trinity  43.647927 -79.419750  \n",
       "41                        The Danforth West, Riverdale  43.679557 -79.352188  \n",
       "42            Toronto Dominion Centre, Design Exchange  43.647177 -79.381576  \n",
       "43        Brockton, Parkdale Village, Exhibition Place  43.636847 -79.428191  \n",
       "47                      India Bazaar, The Beaches West  43.668999 -79.315572  \n",
       "48                      Commerce Court, Victoria Hotel  43.648198 -79.379817  \n",
       "54                                     Studio District  43.659526 -79.340923  \n",
       "61                                       Lawrence Park  43.728020 -79.388790  \n",
       "62                                            Roselawn  43.711695 -79.416936  \n",
       "67                                    Davisville North  43.712751 -79.390197  \n",
       "68     Forest Hill North & West, Forest Hill Road Park  43.696948 -79.411307  \n",
       "69                       High Park, The Junction South  43.661608 -79.464763  \n",
       "73                  North Toronto West,  Lawrence Park  43.715383 -79.405678  \n",
       "74                 The Annex, North Midtown, Yorkville  43.672710 -79.405678  \n",
       "75                              Parkdale, Roncesvalles  43.648960 -79.456325  \n",
       "79                                          Davisville  43.704324 -79.388790  \n",
       "80                      University of Toronto, Harbord  43.662696 -79.400049  \n",
       "81                                  Runnymede, Swansea  43.651571 -79.484450  \n",
       "83                         Moore Park, Summerhill East  43.689574 -79.383160  \n",
       "84           Kensington Market, Chinatown, Grange Park  43.653206 -79.400049  \n",
       "86   Summerhill West, Rathnelly, South Hill, Forest...  43.686412 -79.400049  \n",
       "87   CN Tower, King and Spadina, Railway Lands, Har...  43.628947 -79.394420  \n",
       "91                                            Rosedale  43.679563 -79.377529  \n",
       "92                                      Stn A PO Boxes  43.646435 -79.374846  \n",
       "96                         St. James Town, Cabbagetown  43.667967 -79.367675  \n",
       "97              First Canadian Place, Underground city  43.648429 -79.382280  \n",
       "99                                Church and Wellesley  43.665860 -79.383160  \n",
       "100  Business reply mail Processing Centre, South C...  43.662744 -79.321558  "
      ],
      "text/html": "<div>\n<style scoped>\n    .dataframe tbody tr th:only-of-type {\n        vertical-align: middle;\n    }\n\n    .dataframe tbody tr th {\n        vertical-align: top;\n    }\n\n    .dataframe thead th {\n        text-align: right;\n    }\n</style>\n<table border=\"1\" class=\"dataframe\">\n  <thead>\n    <tr style=\"text-align: right;\">\n      <th></th>\n      <th>PostalCode</th>\n      <th>Borough</th>\n      <th>Neighborhood</th>\n      <th>Latitude</th>\n      <th>Longitude</th>\n    </tr>\n  </thead>\n  <tbody>\n    <tr>\n      <th>2</th>\n      <td>M5A</td>\n      <td>Downtown Toronto</td>\n      <td>Regent Park, Harbourfront</td>\n      <td>43.654260</td>\n      <td>-79.360636</td>\n    </tr>\n    <tr>\n      <th>4</th>\n      <td>M7A</td>\n      <td>Downtown Toronto</td>\n      <td>Queen's Park, Ontario Provincial Government</td>\n      <td>43.662301</td>\n      <td>-79.389494</td>\n    </tr>\n    <tr>\n      <th>9</th>\n      <td>M5B</td>\n      <td>Downtown Toronto</td>\n      <td>Garden District, Ryerson</td>\n      <td>43.657162</td>\n      <td>-79.378937</td>\n    </tr>\n    <tr>\n      <th>15</th>\n      <td>M5C</td>\n      <td>Downtown Toronto</td>\n      <td>St. James Town</td>\n      <td>43.651494</td>\n      <td>-79.375418</td>\n    </tr>\n    <tr>\n      <th>19</th>\n      <td>M4E</td>\n      <td>East Toronto</td>\n      <td>The Beaches</td>\n      <td>43.676357</td>\n      <td>-79.293031</td>\n    </tr>\n    <tr>\n      <th>20</th>\n      <td>M5E</td>\n      <td>Downtown Toronto</td>\n      <td>Berczy Park</td>\n      <td>43.644771</td>\n      <td>-79.373306</td>\n    </tr>\n    <tr>\n      <th>24</th>\n      <td>M5G</td>\n      <td>Downtown Toronto</td>\n      <td>Central Bay Street</td>\n      <td>43.657952</td>\n      <td>-79.387383</td>\n    </tr>\n    <tr>\n      <th>25</th>\n      <td>M6G</td>\n      <td>Downtown Toronto</td>\n      <td>Christie</td>\n      <td>43.669542</td>\n      <td>-79.422564</td>\n    </tr>\n    <tr>\n      <th>30</th>\n      <td>M5H</td>\n      <td>Downtown Toronto</td>\n      <td>Richmond, Adelaide, King</td>\n      <td>43.650571</td>\n      <td>-79.384568</td>\n    </tr>\n    <tr>\n      <th>31</th>\n      <td>M6H</td>\n      <td>West Toronto</td>\n      <td>Dufferin, Dovercourt Village</td>\n      <td>43.669005</td>\n      <td>-79.442259</td>\n    </tr>\n    <tr>\n      <th>36</th>\n      <td>M5J</td>\n      <td>Downtown Toronto</td>\n      <td>Harbourfront East, Union Station, Toronto Islands</td>\n      <td>43.640816</td>\n      <td>-79.381752</td>\n    </tr>\n    <tr>\n      <th>37</th>\n      <td>M6J</td>\n      <td>West Toronto</td>\n      <td>Little Portugal, Trinity</td>\n      <td>43.647927</td>\n      <td>-79.419750</td>\n    </tr>\n    <tr>\n      <th>41</th>\n      <td>M4K</td>\n      <td>East Toronto</td>\n      <td>The Danforth West, Riverdale</td>\n      <td>43.679557</td>\n      <td>-79.352188</td>\n    </tr>\n    <tr>\n      <th>42</th>\n      <td>M5K</td>\n      <td>Downtown Toronto</td>\n      <td>Toronto Dominion Centre, Design Exchange</td>\n      <td>43.647177</td>\n      <td>-79.381576</td>\n    </tr>\n    <tr>\n      <th>43</th>\n      <td>M6K</td>\n      <td>West Toronto</td>\n      <td>Brockton, Parkdale Village, Exhibition Place</td>\n      <td>43.636847</td>\n      <td>-79.428191</td>\n    </tr>\n    <tr>\n      <th>47</th>\n      <td>M4L</td>\n      <td>East Toronto</td>\n      <td>India Bazaar, The Beaches West</td>\n      <td>43.668999</td>\n      <td>-79.315572</td>\n    </tr>\n    <tr>\n      <th>48</th>\n      <td>M5L</td>\n      <td>Downtown Toronto</td>\n      <td>Commerce Court, Victoria Hotel</td>\n      <td>43.648198</td>\n      <td>-79.379817</td>\n    </tr>\n    <tr>\n      <th>54</th>\n      <td>M4M</td>\n      <td>East Toronto</td>\n      <td>Studio District</td>\n      <td>43.659526</td>\n      <td>-79.340923</td>\n    </tr>\n    <tr>\n      <th>61</th>\n      <td>M4N</td>\n      <td>Central Toronto</td>\n      <td>Lawrence Park</td>\n      <td>43.728020</td>\n      <td>-79.388790</td>\n    </tr>\n    <tr>\n      <th>62</th>\n      <td>M5N</td>\n      <td>Central Toronto</td>\n      <td>Roselawn</td>\n      <td>43.711695</td>\n      <td>-79.416936</td>\n    </tr>\n    <tr>\n      <th>67</th>\n      <td>M4P</td>\n      <td>Central Toronto</td>\n      <td>Davisville North</td>\n      <td>43.712751</td>\n      <td>-79.390197</td>\n    </tr>\n    <tr>\n      <th>68</th>\n      <td>M5P</td>\n      <td>Central Toronto</td>\n      <td>Forest Hill North &amp; West, Forest Hill Road Park</td>\n      <td>43.696948</td>\n      <td>-79.411307</td>\n    </tr>\n    <tr>\n      <th>69</th>\n      <td>M6P</td>\n      <td>West Toronto</td>\n      <td>High Park, The Junction South</td>\n      <td>43.661608</td>\n      <td>-79.464763</td>\n    </tr>\n    <tr>\n      <th>73</th>\n      <td>M4R</td>\n      <td>Central Toronto</td>\n      <td>North Toronto West,  Lawrence Park</td>\n      <td>43.715383</td>\n      <td>-79.405678</td>\n    </tr>\n    <tr>\n      <th>74</th>\n      <td>M5R</td>\n      <td>Central Toronto</td>\n      <td>The Annex, North Midtown, Yorkville</td>\n      <td>43.672710</td>\n      <td>-79.405678</td>\n    </tr>\n    <tr>\n      <th>75</th>\n      <td>M6R</td>\n      <td>West Toronto</td>\n      <td>Parkdale, Roncesvalles</td>\n      <td>43.648960</td>\n      <td>-79.456325</td>\n    </tr>\n    <tr>\n      <th>79</th>\n      <td>M4S</td>\n      <td>Central Toronto</td>\n      <td>Davisville</td>\n      <td>43.704324</td>\n      <td>-79.388790</td>\n    </tr>\n    <tr>\n      <th>80</th>\n      <td>M5S</td>\n      <td>Downtown Toronto</td>\n      <td>University of Toronto, Harbord</td>\n      <td>43.662696</td>\n      <td>-79.400049</td>\n    </tr>\n    <tr>\n      <th>81</th>\n      <td>M6S</td>\n      <td>West Toronto</td>\n      <td>Runnymede, Swansea</td>\n      <td>43.651571</td>\n      <td>-79.484450</td>\n    </tr>\n    <tr>\n      <th>83</th>\n      <td>M4T</td>\n      <td>Central Toronto</td>\n      <td>Moore Park, Summerhill East</td>\n      <td>43.689574</td>\n      <td>-79.383160</td>\n    </tr>\n    <tr>\n      <th>84</th>\n      <td>M5T</td>\n      <td>Downtown Toronto</td>\n      <td>Kensington Market, Chinatown, Grange Park</td>\n      <td>43.653206</td>\n      <td>-79.400049</td>\n    </tr>\n    <tr>\n      <th>86</th>\n      <td>M4V</td>\n      <td>Central Toronto</td>\n      <td>Summerhill West, Rathnelly, South Hill, Forest...</td>\n      <td>43.686412</td>\n      <td>-79.400049</td>\n    </tr>\n    <tr>\n      <th>87</th>\n      <td>M5V</td>\n      <td>Downtown Toronto</td>\n      <td>CN Tower, King and Spadina, Railway Lands, Har...</td>\n      <td>43.628947</td>\n      <td>-79.394420</td>\n    </tr>\n    <tr>\n      <th>91</th>\n      <td>M4W</td>\n      <td>Downtown Toronto</td>\n      <td>Rosedale</td>\n      <td>43.679563</td>\n      <td>-79.377529</td>\n    </tr>\n    <tr>\n      <th>92</th>\n      <td>M5W</td>\n      <td>Downtown Toronto</td>\n      <td>Stn A PO Boxes</td>\n      <td>43.646435</td>\n      <td>-79.374846</td>\n    </tr>\n    <tr>\n      <th>96</th>\n      <td>M4X</td>\n      <td>Downtown Toronto</td>\n      <td>St. James Town, Cabbagetown</td>\n      <td>43.667967</td>\n      <td>-79.367675</td>\n    </tr>\n    <tr>\n      <th>97</th>\n      <td>M5X</td>\n      <td>Downtown Toronto</td>\n      <td>First Canadian Place, Underground city</td>\n      <td>43.648429</td>\n      <td>-79.382280</td>\n    </tr>\n    <tr>\n      <th>99</th>\n      <td>M4Y</td>\n      <td>Downtown Toronto</td>\n      <td>Church and Wellesley</td>\n      <td>43.665860</td>\n      <td>-79.383160</td>\n    </tr>\n    <tr>\n      <th>100</th>\n      <td>M7Y</td>\n      <td>East Toronto</td>\n      <td>Business reply mail Processing Centre, South C...</td>\n      <td>43.662744</td>\n      <td>-79.321558</td>\n    </tr>\n  </tbody>\n</table>\n</div>"
     },
     "metadata": {},
     "execution_count": 59
    }
   ],
   "source": []
  },
  {
   "source": [],
   "cell_type": "markdown",
   "metadata": {}
  },
  {
   "source": [
    "## Part 3 ##\n",
    "\n",
    "Explore and cluster the neighborhoods in Toronto."
   ],
   "cell_type": "markdown",
   "metadata": {}
  },
  {
   "cell_type": "code",
   "execution_count": 9,
   "metadata": {},
   "outputs": [
    {
     "output_type": "stream",
     "name": "stdout",
     "text": [
      "Libraries imported.\n"
     ]
    }
   ],
   "source": [
    "\n",
    "from geopy.geocoders import Nominatim\n",
    "import folium\n",
    "\n",
    "print('Libraries imported.')"
   ]
  },
  {
   "cell_type": "code",
   "execution_count": 10,
   "metadata": {},
   "outputs": [
    {
     "output_type": "execute_result",
     "data": {
      "text/plain": [
       "   PostalCode           Borough                                 Neighborhood  \\\n",
       "2         M5A  Downtown Toronto                    Regent Park, Harbourfront   \n",
       "4         M7A  Downtown Toronto  Queen's Park, Ontario Provincial Government   \n",
       "9         M5B  Downtown Toronto                     Garden District, Ryerson   \n",
       "15        M5C  Downtown Toronto                               St. James Town   \n",
       "19        M4E      East Toronto                                  The Beaches   \n",
       "\n",
       "     Latitude  Longitude  \n",
       "2   43.654260 -79.360636  \n",
       "4   43.662301 -79.389494  \n",
       "9   43.657162 -79.378937  \n",
       "15  43.651494 -79.375418  \n",
       "19  43.676357 -79.293031  "
      ],
      "text/html": "<div>\n<style scoped>\n    .dataframe tbody tr th:only-of-type {\n        vertical-align: middle;\n    }\n\n    .dataframe tbody tr th {\n        vertical-align: top;\n    }\n\n    .dataframe thead th {\n        text-align: right;\n    }\n</style>\n<table border=\"1\" class=\"dataframe\">\n  <thead>\n    <tr style=\"text-align: right;\">\n      <th></th>\n      <th>PostalCode</th>\n      <th>Borough</th>\n      <th>Neighborhood</th>\n      <th>Latitude</th>\n      <th>Longitude</th>\n    </tr>\n  </thead>\n  <tbody>\n    <tr>\n      <th>2</th>\n      <td>M5A</td>\n      <td>Downtown Toronto</td>\n      <td>Regent Park, Harbourfront</td>\n      <td>43.654260</td>\n      <td>-79.360636</td>\n    </tr>\n    <tr>\n      <th>4</th>\n      <td>M7A</td>\n      <td>Downtown Toronto</td>\n      <td>Queen's Park, Ontario Provincial Government</td>\n      <td>43.662301</td>\n      <td>-79.389494</td>\n    </tr>\n    <tr>\n      <th>9</th>\n      <td>M5B</td>\n      <td>Downtown Toronto</td>\n      <td>Garden District, Ryerson</td>\n      <td>43.657162</td>\n      <td>-79.378937</td>\n    </tr>\n    <tr>\n      <th>15</th>\n      <td>M5C</td>\n      <td>Downtown Toronto</td>\n      <td>St. James Town</td>\n      <td>43.651494</td>\n      <td>-79.375418</td>\n    </tr>\n    <tr>\n      <th>19</th>\n      <td>M4E</td>\n      <td>East Toronto</td>\n      <td>The Beaches</td>\n      <td>43.676357</td>\n      <td>-79.293031</td>\n    </tr>\n  </tbody>\n</table>\n</div>"
     },
     "metadata": {},
     "execution_count": 10
    }
   ],
   "source": [
    "# work with only boroughs that contain the word Toronto \n",
    "\n",
    "df_toronto = df2[df2['Borough'].str.contains(\"Toronto\")]\n",
    "df_toronto.head()"
   ]
  },
  {
   "cell_type": "code",
   "execution_count": 11,
   "metadata": {},
   "outputs": [
    {
     "output_type": "stream",
     "name": "stdout",
     "text": [
      "The geograpical coordinate of Toronto City are 43.6534817, -79.3839347.\n"
     ]
    }
   ],
   "source": [
    "# Use geopy library to get the latitude and longitude values of Toronto.\n",
    "\n",
    "address = 'Toronto, Canada'\n",
    "\n",
    "geolocator = Nominatim(user_agent=\"to_explorer\")\n",
    "location = geolocator.geocode(address)\n",
    "latitude = location.latitude\n",
    "longitude = location.longitude\n",
    "print('The geograpical coordinate of Toronto City are {}, {}.'.format(latitude, longitude))"
   ]
  },
  {
   "cell_type": "code",
   "execution_count": 12,
   "metadata": {},
   "outputs": [
    {
     "output_type": "execute_result",
     "data": {
      "text/plain": [
       "<folium.folium.Map at 0x12b458760>"
      ],
      "text/html": "<div style=\"width:100%;\"><div style=\"position:relative;width:100%;height:0;padding-bottom:60%;\"><span style=\"color:#565656\">Make this Notebook Trusted to load map: File -> Trust Notebook</span><iframe src=\"about:blank\" style=\"position:absolute;width:100%;height:100%;left:0;top:0;border:none !important;\" data-html=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 onload=\"this.contentDocument.open();this.contentDocument.write(atob(this.getAttribute('data-html')));this.contentDocument.close();\" allowfullscreen webkitallowfullscreen mozallowfullscreen></iframe></div></div>"
     },
     "metadata": {},
     "execution_count": 12
    }
   ],
   "source": [
    "# Create a map of Toronto with neighborhoods superimposed on top.\n",
    "\n",
    "map_toronto = folium.Map(location=[latitude, longitude], zoom_start=12)\n",
    "\n",
    "# add markers to map\n",
    "for lat, lng, borough, neighborhood in zip(df_toronto['Latitude'], df_toronto['Longitude'], df_toronto['Borough'], df_toronto['Neighborhood']):\n",
    "    label = '{}, {}'.format(neighborhood, borough)\n",
    "    label = folium.Popup(label, parse_html=True)\n",
    "    folium.CircleMarker(\n",
    "        [lat, lng],\n",
    "        radius=5,\n",
    "        popup=label,\n",
    "        color='blue',\n",
    "        fill=True,\n",
    "        fill_color='#3186cc',\n",
    "        fill_opacity=0.7,\n",
    "        parse_html=False).add_to(map_toronto)  \n",
    "    \n",
    "map_toronto"
   ]
  },
  {
   "cell_type": "code",
   "execution_count": null,
   "metadata": {},
   "outputs": [],
   "source": []
  }
 ]
}